{
 "cells": [
  {
   "cell_type": "code",
   "execution_count": 1,
   "id": "09a4ccbd",
   "metadata": {},
   "outputs": [],
   "source": [
    "import numpy as np\n",
    "import pandas as pd\n",
    "import seaborn as sns\n",
    "\n",
    "import matplotlib\n",
    "import matplotlib.pyplot as plt\n",
    "import matplotlib.mlab as mlab\n",
    "plt.style.use('ggplot')\n",
    "from matplotlib.pyplot import figure\n",
    "\n",
    "%matplotlib inline\n",
    "matplotlib.rcParams['figure.figsize'] = (12,8)\n",
    "\n",
    "pd.options.mode.chained_assignment = None"
   ]
  },
  {
   "cell_type": "code",
   "execution_count": 2,
   "id": "eb4e3fe1",
   "metadata": {},
   "outputs": [],
   "source": [
    "df =pd.read_csv('data.csv')"
   ]
  },
  {
   "cell_type": "code",
   "execution_count": 3,
   "id": "b7dc9d8a",
   "metadata": {},
   "outputs": [
    {
     "data": {
      "text/html": [
       "<div>\n",
       "<style scoped>\n",
       "    .dataframe tbody tr th:only-of-type {\n",
       "        vertical-align: middle;\n",
       "    }\n",
       "\n",
       "    .dataframe tbody tr th {\n",
       "        vertical-align: top;\n",
       "    }\n",
       "\n",
       "    .dataframe thead th {\n",
       "        text-align: right;\n",
       "    }\n",
       "</style>\n",
       "<table border=\"1\" class=\"dataframe\">\n",
       "  <thead>\n",
       "    <tr style=\"text-align: right;\">\n",
       "      <th></th>\n",
       "      <th>Make</th>\n",
       "      <th>Model</th>\n",
       "      <th>Year</th>\n",
       "      <th>Engine Fuel Type</th>\n",
       "      <th>Engine HP</th>\n",
       "      <th>Engine Cylinders</th>\n",
       "      <th>Transmission Type</th>\n",
       "      <th>Driven_Wheels</th>\n",
       "      <th>Number of Doors</th>\n",
       "      <th>Market Category</th>\n",
       "      <th>Vehicle Size</th>\n",
       "      <th>Vehicle Style</th>\n",
       "      <th>highway MPG</th>\n",
       "      <th>city mpg</th>\n",
       "      <th>Popularity</th>\n",
       "      <th>MSRP</th>\n",
       "    </tr>\n",
       "  </thead>\n",
       "  <tbody>\n",
       "    <tr>\n",
       "      <th>0</th>\n",
       "      <td>BMW</td>\n",
       "      <td>1 Series M</td>\n",
       "      <td>2011</td>\n",
       "      <td>premium unleaded (required)</td>\n",
       "      <td>335.0</td>\n",
       "      <td>6.0</td>\n",
       "      <td>MANUAL</td>\n",
       "      <td>rear wheel drive</td>\n",
       "      <td>2.0</td>\n",
       "      <td>Factory Tuner,Luxury,High-Performance</td>\n",
       "      <td>Compact</td>\n",
       "      <td>Coupe</td>\n",
       "      <td>26</td>\n",
       "      <td>19</td>\n",
       "      <td>3916</td>\n",
       "      <td>46135</td>\n",
       "    </tr>\n",
       "    <tr>\n",
       "      <th>1</th>\n",
       "      <td>BMW</td>\n",
       "      <td>1 Series</td>\n",
       "      <td>2011</td>\n",
       "      <td>premium unleaded (required)</td>\n",
       "      <td>300.0</td>\n",
       "      <td>6.0</td>\n",
       "      <td>MANUAL</td>\n",
       "      <td>rear wheel drive</td>\n",
       "      <td>2.0</td>\n",
       "      <td>Luxury,Performance</td>\n",
       "      <td>Compact</td>\n",
       "      <td>Convertible</td>\n",
       "      <td>28</td>\n",
       "      <td>19</td>\n",
       "      <td>3916</td>\n",
       "      <td>40650</td>\n",
       "    </tr>\n",
       "    <tr>\n",
       "      <th>2</th>\n",
       "      <td>BMW</td>\n",
       "      <td>1 Series</td>\n",
       "      <td>2011</td>\n",
       "      <td>premium unleaded (required)</td>\n",
       "      <td>300.0</td>\n",
       "      <td>6.0</td>\n",
       "      <td>MANUAL</td>\n",
       "      <td>rear wheel drive</td>\n",
       "      <td>2.0</td>\n",
       "      <td>Luxury,High-Performance</td>\n",
       "      <td>Compact</td>\n",
       "      <td>Coupe</td>\n",
       "      <td>28</td>\n",
       "      <td>20</td>\n",
       "      <td>3916</td>\n",
       "      <td>36350</td>\n",
       "    </tr>\n",
       "    <tr>\n",
       "      <th>3</th>\n",
       "      <td>BMW</td>\n",
       "      <td>1 Series</td>\n",
       "      <td>2011</td>\n",
       "      <td>premium unleaded (required)</td>\n",
       "      <td>230.0</td>\n",
       "      <td>6.0</td>\n",
       "      <td>MANUAL</td>\n",
       "      <td>rear wheel drive</td>\n",
       "      <td>2.0</td>\n",
       "      <td>Luxury,Performance</td>\n",
       "      <td>Compact</td>\n",
       "      <td>Coupe</td>\n",
       "      <td>28</td>\n",
       "      <td>18</td>\n",
       "      <td>3916</td>\n",
       "      <td>29450</td>\n",
       "    </tr>\n",
       "    <tr>\n",
       "      <th>4</th>\n",
       "      <td>BMW</td>\n",
       "      <td>1 Series</td>\n",
       "      <td>2011</td>\n",
       "      <td>premium unleaded (required)</td>\n",
       "      <td>230.0</td>\n",
       "      <td>6.0</td>\n",
       "      <td>MANUAL</td>\n",
       "      <td>rear wheel drive</td>\n",
       "      <td>2.0</td>\n",
       "      <td>Luxury</td>\n",
       "      <td>Compact</td>\n",
       "      <td>Convertible</td>\n",
       "      <td>28</td>\n",
       "      <td>18</td>\n",
       "      <td>3916</td>\n",
       "      <td>34500</td>\n",
       "    </tr>\n",
       "  </tbody>\n",
       "</table>\n",
       "</div>"
      ],
      "text/plain": [
       "  Make       Model  Year             Engine Fuel Type  Engine HP  \\\n",
       "0  BMW  1 Series M  2011  premium unleaded (required)      335.0   \n",
       "1  BMW    1 Series  2011  premium unleaded (required)      300.0   \n",
       "2  BMW    1 Series  2011  premium unleaded (required)      300.0   \n",
       "3  BMW    1 Series  2011  premium unleaded (required)      230.0   \n",
       "4  BMW    1 Series  2011  premium unleaded (required)      230.0   \n",
       "\n",
       "   Engine Cylinders Transmission Type     Driven_Wheels  Number of Doors  \\\n",
       "0               6.0            MANUAL  rear wheel drive              2.0   \n",
       "1               6.0            MANUAL  rear wheel drive              2.0   \n",
       "2               6.0            MANUAL  rear wheel drive              2.0   \n",
       "3               6.0            MANUAL  rear wheel drive              2.0   \n",
       "4               6.0            MANUAL  rear wheel drive              2.0   \n",
       "\n",
       "                         Market Category Vehicle Size Vehicle Style  \\\n",
       "0  Factory Tuner,Luxury,High-Performance      Compact         Coupe   \n",
       "1                     Luxury,Performance      Compact   Convertible   \n",
       "2                Luxury,High-Performance      Compact         Coupe   \n",
       "3                     Luxury,Performance      Compact         Coupe   \n",
       "4                                 Luxury      Compact   Convertible   \n",
       "\n",
       "   highway MPG  city mpg  Popularity   MSRP  \n",
       "0           26        19        3916  46135  \n",
       "1           28        19        3916  40650  \n",
       "2           28        20        3916  36350  \n",
       "3           28        18        3916  29450  \n",
       "4           28        18        3916  34500  "
      ]
     },
     "execution_count": 3,
     "metadata": {},
     "output_type": "execute_result"
    }
   ],
   "source": [
    "df.head()"
   ]
  },
  {
   "cell_type": "code",
   "execution_count": 4,
   "id": "3736ddbc",
   "metadata": {},
   "outputs": [],
   "source": [
    "selected_columns = ['Model', 'Year', 'Make', 'Engine HP', 'Engine Cylinders', 'Transmission Type', 'Vehicle Style', 'highway MPG', 'city mpg', 'MSRP']"
   ]
  },
  {
   "cell_type": "code",
   "execution_count": 5,
   "id": "67f784f2",
   "metadata": {},
   "outputs": [],
   "source": [
    "data = df[selected_columns]"
   ]
  },
  {
   "cell_type": "code",
   "execution_count": 6,
   "id": "3efe5734",
   "metadata": {},
   "outputs": [],
   "source": [
    "#write the columns names in small letter and replace spaces with under score\n",
    "data.columns=data.columns.str.lower().str.replace(' ','_')"
   ]
  },
  {
   "cell_type": "code",
   "execution_count": 7,
   "id": "c1ec8168",
   "metadata": {},
   "outputs": [
    {
     "data": {
      "text/plain": [
       "model                 object\n",
       "year                   int64\n",
       "make                  object\n",
       "engine_hp            float64\n",
       "engine_cylinders     float64\n",
       "transmission_type     object\n",
       "vehicle_style         object\n",
       "highway_mpg            int64\n",
       "city_mpg               int64\n",
       "msrp                   int64\n",
       "dtype: object"
      ]
     },
     "execution_count": 7,
     "metadata": {},
     "output_type": "execute_result"
    }
   ],
   "source": [
    "data.dtypes"
   ]
  },
  {
   "cell_type": "code",
   "execution_count": 8,
   "id": "c9942e7b",
   "metadata": {},
   "outputs": [
    {
     "data": {
      "text/plain": [
       "['model', 'make', 'transmission_type', 'vehicle_style']"
      ]
     },
     "execution_count": 8,
     "metadata": {},
     "output_type": "execute_result"
    }
   ],
   "source": [
    "strings =list(data.dtypes[data.dtypes=='object'].index)\n",
    "strings"
   ]
  },
  {
   "cell_type": "code",
   "execution_count": 9,
   "id": "d1cdd7f8",
   "metadata": {},
   "outputs": [],
   "source": [
    "for col in strings:\n",
    "    data[col] = data[col].str.lower().str.replace(' ','_')"
   ]
  },
  {
   "cell_type": "code",
   "execution_count": 10,
   "id": "000dd39f",
   "metadata": {},
   "outputs": [
    {
     "data": {
      "text/html": [
       "<div>\n",
       "<style scoped>\n",
       "    .dataframe tbody tr th:only-of-type {\n",
       "        vertical-align: middle;\n",
       "    }\n",
       "\n",
       "    .dataframe tbody tr th {\n",
       "        vertical-align: top;\n",
       "    }\n",
       "\n",
       "    .dataframe thead th {\n",
       "        text-align: right;\n",
       "    }\n",
       "</style>\n",
       "<table border=\"1\" class=\"dataframe\">\n",
       "  <thead>\n",
       "    <tr style=\"text-align: right;\">\n",
       "      <th></th>\n",
       "      <th>model</th>\n",
       "      <th>year</th>\n",
       "      <th>make</th>\n",
       "      <th>engine_hp</th>\n",
       "      <th>engine_cylinders</th>\n",
       "      <th>transmission_type</th>\n",
       "      <th>vehicle_style</th>\n",
       "      <th>highway_mpg</th>\n",
       "      <th>city_mpg</th>\n",
       "      <th>msrp</th>\n",
       "    </tr>\n",
       "  </thead>\n",
       "  <tbody>\n",
       "    <tr>\n",
       "      <th>0</th>\n",
       "      <td>1_series_m</td>\n",
       "      <td>2011</td>\n",
       "      <td>bmw</td>\n",
       "      <td>335.0</td>\n",
       "      <td>6.0</td>\n",
       "      <td>manual</td>\n",
       "      <td>coupe</td>\n",
       "      <td>26</td>\n",
       "      <td>19</td>\n",
       "      <td>46135</td>\n",
       "    </tr>\n",
       "    <tr>\n",
       "      <th>1</th>\n",
       "      <td>1_series</td>\n",
       "      <td>2011</td>\n",
       "      <td>bmw</td>\n",
       "      <td>300.0</td>\n",
       "      <td>6.0</td>\n",
       "      <td>manual</td>\n",
       "      <td>convertible</td>\n",
       "      <td>28</td>\n",
       "      <td>19</td>\n",
       "      <td>40650</td>\n",
       "    </tr>\n",
       "    <tr>\n",
       "      <th>2</th>\n",
       "      <td>1_series</td>\n",
       "      <td>2011</td>\n",
       "      <td>bmw</td>\n",
       "      <td>300.0</td>\n",
       "      <td>6.0</td>\n",
       "      <td>manual</td>\n",
       "      <td>coupe</td>\n",
       "      <td>28</td>\n",
       "      <td>20</td>\n",
       "      <td>36350</td>\n",
       "    </tr>\n",
       "    <tr>\n",
       "      <th>3</th>\n",
       "      <td>1_series</td>\n",
       "      <td>2011</td>\n",
       "      <td>bmw</td>\n",
       "      <td>230.0</td>\n",
       "      <td>6.0</td>\n",
       "      <td>manual</td>\n",
       "      <td>coupe</td>\n",
       "      <td>28</td>\n",
       "      <td>18</td>\n",
       "      <td>29450</td>\n",
       "    </tr>\n",
       "    <tr>\n",
       "      <th>4</th>\n",
       "      <td>1_series</td>\n",
       "      <td>2011</td>\n",
       "      <td>bmw</td>\n",
       "      <td>230.0</td>\n",
       "      <td>6.0</td>\n",
       "      <td>manual</td>\n",
       "      <td>convertible</td>\n",
       "      <td>28</td>\n",
       "      <td>18</td>\n",
       "      <td>34500</td>\n",
       "    </tr>\n",
       "  </tbody>\n",
       "</table>\n",
       "</div>"
      ],
      "text/plain": [
       "        model  year make  engine_hp  engine_cylinders transmission_type  \\\n",
       "0  1_series_m  2011  bmw      335.0               6.0            manual   \n",
       "1    1_series  2011  bmw      300.0               6.0            manual   \n",
       "2    1_series  2011  bmw      300.0               6.0            manual   \n",
       "3    1_series  2011  bmw      230.0               6.0            manual   \n",
       "4    1_series  2011  bmw      230.0               6.0            manual   \n",
       "\n",
       "  vehicle_style  highway_mpg  city_mpg   msrp  \n",
       "0         coupe           26        19  46135  \n",
       "1   convertible           28        19  40650  \n",
       "2         coupe           28        20  36350  \n",
       "3         coupe           28        18  29450  \n",
       "4   convertible           28        18  34500  "
      ]
     },
     "execution_count": 10,
     "metadata": {},
     "output_type": "execute_result"
    }
   ],
   "source": [
    "data.head()"
   ]
  },
  {
   "cell_type": "code",
   "execution_count": 11,
   "id": "5fda69b5",
   "metadata": {},
   "outputs": [
    {
     "data": {
      "text/plain": [
       "model                 0\n",
       "year                  0\n",
       "make                  0\n",
       "engine_hp            69\n",
       "engine_cylinders     30\n",
       "transmission_type     0\n",
       "vehicle_style         0\n",
       "highway_mpg           0\n",
       "city_mpg              0\n",
       "msrp                  0\n",
       "dtype: int64"
      ]
     },
     "execution_count": 11,
     "metadata": {},
     "output_type": "execute_result"
    }
   ],
   "source": [
    "data.isnull().sum()"
   ]
  },
  {
   "cell_type": "code",
   "execution_count": 12,
   "id": "c72152ec",
   "metadata": {},
   "outputs": [],
   "source": [
    "data.fillna(0,inplace=True)\n",
    "data.rename(columns={'msrp': 'price'}, inplace =True)"
   ]
  },
  {
   "cell_type": "code",
   "execution_count": 13,
   "id": "d4993df9",
   "metadata": {},
   "outputs": [
    {
     "data": {
      "text/plain": [
       "model                0\n",
       "year                 0\n",
       "make                 0\n",
       "engine_hp            0\n",
       "engine_cylinders     0\n",
       "transmission_type    0\n",
       "vehicle_style        0\n",
       "highway_mpg          0\n",
       "city_mpg             0\n",
       "price                0\n",
       "dtype: int64"
      ]
     },
     "execution_count": 13,
     "metadata": {},
     "output_type": "execute_result"
    }
   ],
   "source": [
    "data.isnull().sum()"
   ]
  },
  {
   "cell_type": "code",
   "execution_count": 14,
   "id": "dc1f0e98",
   "metadata": {},
   "outputs": [],
   "source": [
    "mean_price = data['price'].mean()"
   ]
  },
  {
   "cell_type": "code",
   "execution_count": 15,
   "id": "aa04408a",
   "metadata": {},
   "outputs": [],
   "source": [
    "data['above_average'] = (data['price']>mean_price).astype(int)"
   ]
  },
  {
   "cell_type": "code",
   "execution_count": 16,
   "id": "9d1d671d",
   "metadata": {},
   "outputs": [],
   "source": [
    "data.drop(columns=['price'], inplace=True)"
   ]
  },
  {
   "cell_type": "code",
   "execution_count": 17,
   "id": "c93320c8",
   "metadata": {},
   "outputs": [
    {
     "data": {
      "text/html": [
       "<div>\n",
       "<style scoped>\n",
       "    .dataframe tbody tr th:only-of-type {\n",
       "        vertical-align: middle;\n",
       "    }\n",
       "\n",
       "    .dataframe tbody tr th {\n",
       "        vertical-align: top;\n",
       "    }\n",
       "\n",
       "    .dataframe thead th {\n",
       "        text-align: right;\n",
       "    }\n",
       "</style>\n",
       "<table border=\"1\" class=\"dataframe\">\n",
       "  <thead>\n",
       "    <tr style=\"text-align: right;\">\n",
       "      <th></th>\n",
       "      <th>model</th>\n",
       "      <th>year</th>\n",
       "      <th>make</th>\n",
       "      <th>engine_hp</th>\n",
       "      <th>engine_cylinders</th>\n",
       "      <th>transmission_type</th>\n",
       "      <th>vehicle_style</th>\n",
       "      <th>highway_mpg</th>\n",
       "      <th>city_mpg</th>\n",
       "      <th>above_average</th>\n",
       "    </tr>\n",
       "  </thead>\n",
       "  <tbody>\n",
       "    <tr>\n",
       "      <th>0</th>\n",
       "      <td>1_series_m</td>\n",
       "      <td>2011</td>\n",
       "      <td>bmw</td>\n",
       "      <td>335.0</td>\n",
       "      <td>6.0</td>\n",
       "      <td>manual</td>\n",
       "      <td>coupe</td>\n",
       "      <td>26</td>\n",
       "      <td>19</td>\n",
       "      <td>1</td>\n",
       "    </tr>\n",
       "    <tr>\n",
       "      <th>1</th>\n",
       "      <td>1_series</td>\n",
       "      <td>2011</td>\n",
       "      <td>bmw</td>\n",
       "      <td>300.0</td>\n",
       "      <td>6.0</td>\n",
       "      <td>manual</td>\n",
       "      <td>convertible</td>\n",
       "      <td>28</td>\n",
       "      <td>19</td>\n",
       "      <td>1</td>\n",
       "    </tr>\n",
       "    <tr>\n",
       "      <th>2</th>\n",
       "      <td>1_series</td>\n",
       "      <td>2011</td>\n",
       "      <td>bmw</td>\n",
       "      <td>300.0</td>\n",
       "      <td>6.0</td>\n",
       "      <td>manual</td>\n",
       "      <td>coupe</td>\n",
       "      <td>28</td>\n",
       "      <td>20</td>\n",
       "      <td>0</td>\n",
       "    </tr>\n",
       "    <tr>\n",
       "      <th>3</th>\n",
       "      <td>1_series</td>\n",
       "      <td>2011</td>\n",
       "      <td>bmw</td>\n",
       "      <td>230.0</td>\n",
       "      <td>6.0</td>\n",
       "      <td>manual</td>\n",
       "      <td>coupe</td>\n",
       "      <td>28</td>\n",
       "      <td>18</td>\n",
       "      <td>0</td>\n",
       "    </tr>\n",
       "    <tr>\n",
       "      <th>4</th>\n",
       "      <td>1_series</td>\n",
       "      <td>2011</td>\n",
       "      <td>bmw</td>\n",
       "      <td>230.0</td>\n",
       "      <td>6.0</td>\n",
       "      <td>manual</td>\n",
       "      <td>convertible</td>\n",
       "      <td>28</td>\n",
       "      <td>18</td>\n",
       "      <td>0</td>\n",
       "    </tr>\n",
       "  </tbody>\n",
       "</table>\n",
       "</div>"
      ],
      "text/plain": [
       "        model  year make  engine_hp  engine_cylinders transmission_type  \\\n",
       "0  1_series_m  2011  bmw      335.0               6.0            manual   \n",
       "1    1_series  2011  bmw      300.0               6.0            manual   \n",
       "2    1_series  2011  bmw      300.0               6.0            manual   \n",
       "3    1_series  2011  bmw      230.0               6.0            manual   \n",
       "4    1_series  2011  bmw      230.0               6.0            manual   \n",
       "\n",
       "  vehicle_style  highway_mpg  city_mpg  above_average  \n",
       "0         coupe           26        19              1  \n",
       "1   convertible           28        19              1  \n",
       "2         coupe           28        20              0  \n",
       "3         coupe           28        18              0  \n",
       "4   convertible           28        18              0  "
      ]
     },
     "execution_count": 17,
     "metadata": {},
     "output_type": "execute_result"
    }
   ],
   "source": [
    "data.head()"
   ]
  },
  {
   "cell_type": "markdown",
   "id": "68fda856",
   "metadata": {},
   "source": [
    "# Setting up validation Frame work"
   ]
  },
  {
   "cell_type": "code",
   "execution_count": 18,
   "id": "3312f97b",
   "metadata": {},
   "outputs": [],
   "source": [
    "# perfom train/validation/test using sklearn\n",
    "from sklearn.model_selection import train_test_split"
   ]
  },
  {
   "cell_type": "code",
   "execution_count": 19,
   "id": "b6b990fb",
   "metadata": {},
   "outputs": [],
   "source": [
    "# divide the data into train,validation,test\n",
    "df_full_train, df_test =train_test_split(data, test_size = 0.2, random_state=1 )"
   ]
  },
  {
   "cell_type": "code",
   "execution_count": 20,
   "id": "61103f0c",
   "metadata": {},
   "outputs": [
    {
     "data": {
      "text/plain": [
       "(9531, 2383)"
      ]
     },
     "execution_count": 20,
     "metadata": {},
     "output_type": "execute_result"
    }
   ],
   "source": [
    "len(df_full_train), len(df_test)"
   ]
  },
  {
   "cell_type": "code",
   "execution_count": 21,
   "id": "234ebc2d",
   "metadata": {},
   "outputs": [],
   "source": [
    "df_train, df_val = train_test_split(df_full_train, test_size=0.25, random_state=1)"
   ]
  },
  {
   "cell_type": "code",
   "execution_count": 22,
   "id": "d4e3592a",
   "metadata": {},
   "outputs": [],
   "source": [
    "df_train = df_train.reset_index(drop=True)\n",
    "df_val = df_val.reset_index(drop=True)\n",
    "df_test = df_test.reset_index(drop=True)"
   ]
  },
  {
   "cell_type": "code",
   "execution_count": 23,
   "id": "bdf2fac5",
   "metadata": {},
   "outputs": [],
   "source": [
    "y_train = df_train.above_average.values\n",
    "y_val = df_val.above_average.values\n",
    "y_test = df_test.above_average.values"
   ]
  },
  {
   "cell_type": "code",
   "execution_count": 24,
   "id": "1a0ff19d",
   "metadata": {},
   "outputs": [],
   "source": [
    "del df_train['above_average']\n",
    "del df_test['above_average']\n",
    "del df_val['above_average']"
   ]
  },
  {
   "cell_type": "code",
   "execution_count": 25,
   "id": "29033dd9",
   "metadata": {},
   "outputs": [],
   "source": [
    "from sklearn.metrics import roc_auc_score\n",
    "from sklearn.linear_model import LogisticRegression"
   ]
  },
  {
   "cell_type": "code",
   "execution_count": 26,
   "id": "f715f76e",
   "metadata": {},
   "outputs": [],
   "source": [
    "numerical = ['engine_hp', 'engine_cylinders', 'highway_mpg', 'city_mpg']"
   ]
  },
  {
   "cell_type": "code",
   "execution_count": 27,
   "id": "5d018469",
   "metadata": {},
   "outputs": [],
   "source": [
    "auc_scores = {}\n",
    "\n",
    "for col in df_train[numerical]:\n",
    "    auc = roc_auc_score(y_train, df_train[col])\n",
    "    \n",
    "    if auc <0.5:\n",
    "        inverted_col = -df_train[col]\n",
    "        inverted_auc = roc_auc_score(y_train, inverted_col)\n",
    "        auc_scores[col] = inverted_auc\n",
    "    else:\n",
    "        auc_scores[col] = auc"
   ]
  },
  {
   "cell_type": "code",
   "execution_count": 28,
   "id": "bcf51ced",
   "metadata": {},
   "outputs": [
    {
     "data": {
      "text/plain": [
       "'engine_hp'"
      ]
     },
     "execution_count": 28,
     "metadata": {},
     "output_type": "execute_result"
    }
   ],
   "source": [
    "highest_auc_variable = max(auc_scores, key=auc_scores.get)\n",
    "highest_auc_variable "
   ]
  },
  {
   "cell_type": "code",
   "execution_count": 29,
   "id": "ea8e940e",
   "metadata": {},
   "outputs": [],
   "source": [
    "from sklearn.metrics import roc_auc_score\n",
    "from sklearn.metrics import roc_curve"
   ]
  },
  {
   "cell_type": "code",
   "execution_count": 30,
   "id": "96d09eff",
   "metadata": {},
   "outputs": [
    {
     "name": "stdout",
     "output_type": "stream",
     "text": [
      "engine_hp, 0.917\n",
      "engine_cylinders, 0.766\n",
      "highway_mpg, 0.633\n",
      " city_mpg, 0.673\n"
     ]
    }
   ],
   "source": [
    "for c in numerical:\n",
    "    auc = roc_auc_score(y_train, df_train[c])\n",
    "    if auc < 0.5:\n",
    "        auc = roc_auc_score(y_train, -df_train[c])\n",
    "    print('%9s, %.3f' % (c, auc))"
   ]
  },
  {
   "cell_type": "markdown",
   "id": "d7757fd1",
   "metadata": {},
   "source": [
    "# One hot encoding"
   ]
  },
  {
   "cell_type": "code",
   "execution_count": 31,
   "id": "fe63d140",
   "metadata": {},
   "outputs": [],
   "source": [
    "# use one hot encoding for categorical variables\n",
    "from sklearn.feature_extraction import DictVectorizer"
   ]
  },
  {
   "cell_type": "code",
   "execution_count": 32,
   "id": "3afe2566",
   "metadata": {},
   "outputs": [],
   "source": [
    "train_dicts = df_train.to_dict(orient='records')"
   ]
  },
  {
   "cell_type": "code",
   "execution_count": 33,
   "id": "26e944ea",
   "metadata": {},
   "outputs": [],
   "source": [
    "dv = DictVectorizer(sparse=False)"
   ]
  },
  {
   "cell_type": "code",
   "execution_count": 34,
   "id": "21ee5a99",
   "metadata": {},
   "outputs": [],
   "source": [
    "X_train = dv.fit_transform(train_dicts)"
   ]
  },
  {
   "cell_type": "code",
   "execution_count": 35,
   "id": "d3e2497a",
   "metadata": {},
   "outputs": [],
   "source": [
    "val_dicts = df_val.to_dict(orient='records')"
   ]
  },
  {
   "cell_type": "code",
   "execution_count": 36,
   "id": "71b4cc42",
   "metadata": {},
   "outputs": [],
   "source": [
    "X_val = dv.transform(val_dicts)"
   ]
  },
  {
   "cell_type": "markdown",
   "id": "b7f89c3e",
   "metadata": {},
   "source": [
    "# Logistic Regression"
   ]
  },
  {
   "cell_type": "code",
   "execution_count": 37,
   "id": "06028859",
   "metadata": {},
   "outputs": [],
   "source": [
    "from sklearn.linear_model import LogisticRegression"
   ]
  },
  {
   "cell_type": "code",
   "execution_count": 38,
   "id": "b6b42fe1",
   "metadata": {},
   "outputs": [],
   "source": [
    "model = LogisticRegression(solver='liblinear', C=1.0, max_iter=1000)"
   ]
  },
  {
   "cell_type": "code",
   "execution_count": 39,
   "id": "727e2621",
   "metadata": {},
   "outputs": [
    {
     "data": {
      "text/plain": [
       "LogisticRegression(max_iter=1000, solver='liblinear')"
      ]
     },
     "execution_count": 39,
     "metadata": {},
     "output_type": "execute_result"
    }
   ],
   "source": [
    "model.fit(X_train, y_train)"
   ]
  },
  {
   "cell_type": "code",
   "execution_count": 40,
   "id": "3e1ed1b1",
   "metadata": {},
   "outputs": [
    {
     "data": {
      "text/plain": [
       "-0.1665599311254571"
      ]
     },
     "execution_count": 40,
     "metadata": {},
     "output_type": "execute_result"
    }
   ],
   "source": [
    "model.intercept_[0]"
   ]
  },
  {
   "cell_type": "code",
   "execution_count": 41,
   "id": "f2aee312",
   "metadata": {},
   "outputs": [
    {
     "data": {
      "text/plain": [
       "array([ 1.500e-02, -1.600e-01,  3.600e-02,  6.800e-02,  8.220e-01,\n",
       "        7.640e-01,  3.770e-01,  2.373e+00,  1.000e-01,  1.939e+00,\n",
       "        0.000e+00, -6.040e-01,  2.256e+00, -1.432e+00, -8.560e-01,\n",
       "       -2.832e+00,  4.590e-01, -2.580e-01, -1.522e+00,  1.850e-01,\n",
       "       -8.200e-01, -1.268e+00,  2.000e-03, -2.186e+00,  5.600e-02,\n",
       "       -1.438e+00,  4.000e-03,  1.842e+00,  1.301e+00,  1.389e+00,\n",
       "        2.949e+00,  7.790e-01,  2.000e-03, -1.194e+00,  0.000e+00,\n",
       "        6.930e-01, -1.208e+00, -1.106e+00, -9.620e-01, -1.260e-01,\n",
       "       -2.278e+00,  1.392e+00,  7.030e-01,  8.120e-01, -1.510e-01,\n",
       "        9.700e-02, -1.722e+00, -1.323e+00,  2.127e+00, -7.570e-01,\n",
       "       -6.220e-01,  1.076e+00, -7.800e-02, -1.400e-02, -9.000e-03,\n",
       "       -3.300e-01,  6.500e-02, -1.000e-03, -5.350e-01, -2.000e-03,\n",
       "       -4.000e-03, -2.000e-03, -8.650e-01, -8.400e-02,  2.650e-01,\n",
       "       -2.930e-01, -9.000e-02, -1.290e-01, -1.190e-01, -0.000e+00,\n",
       "       -6.000e-03, -8.720e-01,  3.580e-01,  3.690e-01, -3.320e-01,\n",
       "        3.060e-01, -2.200e-01, -1.000e-02,  6.500e-02,  0.000e+00,\n",
       "        1.194e+00,  6.520e-01,  7.640e-01, -3.280e-01, -1.600e-02,\n",
       "       -3.900e-02, -9.300e-01, -4.100e-02, -3.800e-02, -1.260e-01,\n",
       "        3.000e-03, -3.000e-02,  1.000e-03,  9.000e-03,  0.000e+00,\n",
       "        9.260e-01,  6.420e-01, -8.400e-02, -1.486e+00, -3.000e-03,\n",
       "        2.000e-03,  0.000e+00, -2.000e-03,  0.000e+00,  2.330e-01,\n",
       "        1.310e-01,  2.270e-01, -4.400e-02, -1.300e-02, -1.400e-02,\n",
       "        9.800e-02, -1.600e-02, -5.510e-01, -1.300e-02, -6.340e-01,\n",
       "       -4.300e-02,  3.500e-01,  4.510e-01, -2.140e-01,  6.670e-01,\n",
       "       -2.100e-01, -3.900e-02, -1.580e-01, -2.900e-02,  3.850e-01,\n",
       "       -5.040e-01, -5.000e-03, -3.800e-02, -9.500e-02, -5.300e-02,\n",
       "       -4.010e-01, -5.170e-01, -4.940e-01,  3.450e-01,  9.970e-01,\n",
       "        1.007e+00,  1.790e-01,  3.700e-02,  7.390e-01,  5.640e-01,\n",
       "       -6.000e-03, -1.000e-03, -6.910e-01, -8.600e-02, -1.760e-01,\n",
       "       -2.400e-02, -4.000e-03,  2.300e-02,  1.400e-02,  0.000e+00,\n",
       "       -2.300e-02, -3.000e-03, -3.000e-02, -2.500e-01,  9.530e-01,\n",
       "       -2.770e-01,  6.000e-03,  0.000e+00,  0.000e+00, -4.530e-01,\n",
       "       -1.800e-02, -2.400e-02,  3.000e-03,  1.366e+00,  4.300e-02,\n",
       "       -3.400e-01, -0.000e+00, -6.000e-03, -5.000e-03, -1.156e+00,\n",
       "        2.000e-03,  1.000e-03, -6.200e-02,  6.740e-01, -2.540e-01,\n",
       "        3.420e-01, -7.700e-02,  0.000e+00, -1.000e-03,  2.210e-01,\n",
       "       -1.000e-03, -1.550e-01, -1.600e-02,  5.000e-03,  1.400e-01,\n",
       "       -2.000e-03, -2.000e-03, -3.000e-03, -5.400e-01, -4.000e-02,\n",
       "       -1.220e-01, -1.070e+00, -0.000e+00,  1.080e-01,  1.700e-01,\n",
       "       -1.800e-02, -4.080e-01, -2.800e-02, -7.400e-01,  3.620e-01,\n",
       "       -4.930e-01, -4.000e-03, -4.000e-03, -1.000e-03,  1.000e-03,\n",
       "       -2.300e-02, -1.700e-02,  1.108e+00, -3.800e-02, -1.600e-02,\n",
       "       -4.000e-03, -4.000e-02, -1.130e-01, -5.820e-01, -1.980e-01,\n",
       "        9.700e-02, -1.400e-02, -1.840e-01,  3.850e-01, -4.000e-03,\n",
       "        2.000e-03, -1.311e+00, -2.620e-01, -1.200e-01, -1.740e-01,\n",
       "       -1.434e+00, -6.000e-03, -3.700e-02, -3.000e-03,  0.000e+00,\n",
       "       -1.030e-01, -1.550e-01, -4.000e-03,  2.670e-01,  6.170e-01,\n",
       "        2.700e-01, -1.000e-03, -1.000e-02, -3.000e-03, -8.230e-01,\n",
       "       -1.240e+00, -4.000e-03, -5.000e-03, -2.000e-03, -1.000e-03,\n",
       "       -1.370e-01, -0.000e+00, -3.000e-03, -1.900e-01,  1.600e-02,\n",
       "       -7.800e-02, -1.000e-03,  2.840e-01,  2.540e-01, -2.500e-02,\n",
       "       -8.610e-01, -7.000e-03, -1.160e-01,  7.080e-01,  0.000e+00,\n",
       "        0.000e+00,  4.000e-03,  0.000e+00,  0.000e+00,  0.000e+00,\n",
       "        0.000e+00,  0.000e+00,  0.000e+00, -1.000e-03, -4.000e-03,\n",
       "        9.100e-02, -4.100e-02, -1.000e-03, -2.000e-03, -0.000e+00,\n",
       "        2.900e-01,  3.100e-02,  3.370e-01, -1.910e-01, -6.000e-03,\n",
       "       -5.000e-03,  3.180e-01, -2.160e-01, -2.800e-02, -1.700e-02,\n",
       "       -3.400e-02, -6.000e-03,  8.700e-02, -1.600e-02,  8.260e-01,\n",
       "        0.000e+00,  0.000e+00,  0.000e+00, -6.870e-01,  6.030e-01,\n",
       "       -3.000e-03, -4.000e-03, -4.000e-03, -2.100e-02, -1.300e-02,\n",
       "       -1.400e-02, -4.000e-02, -1.680e-01, -2.080e-01, -5.800e-02,\n",
       "       -3.200e-02, -1.300e-02, -3.000e-03,  1.300e-01,  3.000e-03,\n",
       "        0.000e+00,  1.900e-02, -3.500e-02,  7.290e-01, -3.000e-02,\n",
       "        9.700e-02, -2.130e-01, -3.200e-02,  1.139e+00,  1.842e+00,\n",
       "       -0.000e+00, -1.200e-02, -1.000e-02,  1.886e+00, -8.300e-01,\n",
       "       -3.500e-02, -5.800e-02, -6.910e-01, -3.000e-03, -4.700e-02,\n",
       "       -2.350e-01, -2.630e-01, -3.300e-02, -4.100e-02, -3.300e-02,\n",
       "       -7.000e-03, -5.000e-03, -1.000e-03, -1.600e-02, -4.000e-03,\n",
       "       -2.700e-02,  1.129e+00,  1.037e+00, -9.400e-02, -9.800e-02,\n",
       "       -1.400e-02, -4.800e-02, -7.700e-01, -7.620e-01,  2.050e-01,\n",
       "       -2.140e-01, -9.200e-02,  1.600e-01, -3.000e-03, -4.700e-02,\n",
       "        1.950e-01, -1.290e-01, -7.980e-01,  1.700e-02,  2.100e-02,\n",
       "        1.400e-02,  1.320e-01, -5.300e-02, -4.800e-02, -2.000e-03,\n",
       "        1.190e-01, -1.100e-02, -2.500e-02,  8.510e-01, -1.552e+00,\n",
       "       -1.290e+00, -0.000e+00,  8.490e-01,  1.274e+00,  1.090e-01,\n",
       "       -2.200e-02, -3.080e-01, -2.000e-03, -2.040e-01, -3.500e-02,\n",
       "        5.620e-01, -1.000e-02, -5.800e-02, -1.500e-02,  0.000e+00,\n",
       "        2.000e-02, -0.000e+00,  0.000e+00, -4.000e-03, -5.670e-01,\n",
       "       -7.000e-03, -3.600e-02, -2.490e-01, -4.000e-01, -2.860e-01,\n",
       "        1.000e-03, -2.900e-02, -7.000e-03, -9.000e-03, -2.350e-01,\n",
       "       -4.100e-02, -1.000e-03, -9.200e-02, -1.450e-01, -1.400e-02,\n",
       "       -2.100e-02, -6.510e-01, -1.080e-01, -5.000e-02,  5.280e-01,\n",
       "        1.130e-01,  3.960e-01,  1.500e-02,  2.400e-02, -7.000e-03,\n",
       "       -0.000e+00, -8.880e-01, -1.048e+00,  4.400e-02, -3.370e-01,\n",
       "       -5.920e-01, -5.000e-03, -1.310e-01, -6.700e-01,  1.850e-01,\n",
       "        3.660e-01,  3.480e-01, -6.390e-01, -1.200e-02,  4.000e-03,\n",
       "       -1.320e-01, -6.120e-01,  1.820e-01,  0.000e+00,  0.000e+00,\n",
       "        5.080e-01, -5.820e-01, -7.000e-03,  1.930e-01,  0.000e+00,\n",
       "       -8.600e-02, -7.750e-01,  1.500e-02, -2.600e-02, -7.000e-03,\n",
       "       -1.780e-01, -3.150e-01, -7.400e-02, -1.200e-02, -1.850e-01,\n",
       "       -1.400e-01, -3.900e-02, -1.300e-02,  3.000e-02,  1.200e-02,\n",
       "        7.000e-03,  6.850e-01,  2.570e-01,  4.680e-01, -2.410e-01,\n",
       "        3.480e-01,  6.200e-02,  5.300e-02,  1.000e-03,  4.000e-03,\n",
       "        2.000e-03, -1.510e-01, -3.810e-01,  1.090e-01,  2.260e-01,\n",
       "        1.420e-01, -1.400e-01, -2.600e-02,  8.300e-02,  6.740e-01,\n",
       "       -0.000e+00, -2.200e-02, -5.100e-02,  0.000e+00, -7.100e-02,\n",
       "        5.000e-03, -6.000e-02, -1.670e-01, -1.000e-03, -4.160e-01,\n",
       "       -7.000e-03, -1.000e-03,  5.900e-01, -5.320e-01, -2.000e-03,\n",
       "       -3.100e-02, -1.560e-01, -3.000e-03, -3.000e-02, -1.700e-02,\n",
       "       -6.500e-02, -0.000e+00,  1.940e-01,  2.590e-01, -1.590e-01,\n",
       "        6.200e-02,  5.700e-02,  5.000e-03, -4.800e-02, -2.340e-01,\n",
       "       -2.370e-01, -1.130e-01, -7.900e-02, -7.500e-02, -5.260e-01,\n",
       "       -5.800e-02, -0.000e+00,  2.610e-01,  3.570e-01, -6.600e-02,\n",
       "       -7.040e-01, -4.900e-02, -2.310e-01, -3.000e-03,  1.580e-01,\n",
       "        0.000e+00, -1.100e-02, -1.200e-02, -0.000e+00, -4.600e-02,\n",
       "       -7.100e-02, -1.290e-01, -2.500e-02,  4.500e-02,  0.000e+00,\n",
       "       -2.600e-02, -0.000e+00,  3.900e-02,  2.260e-01,  1.100e-01,\n",
       "       -8.500e-02, -4.280e-01,  4.120e-01,  2.210e-01,  8.000e-03,\n",
       "       -7.900e-02, -3.000e-03,  2.070e-01, -5.000e-03, -0.000e+00,\n",
       "       -9.800e-02,  5.170e-01,  1.100e-02,  4.840e-01,  9.490e-01,\n",
       "        2.700e-02,  3.000e-03, -2.900e-02,  8.130e-01,  1.360e-01,\n",
       "        1.000e-02,  5.630e-01,  0.000e+00,  1.000e-02,  0.000e+00,\n",
       "        0.000e+00,  2.420e-01, -1.005e+00, -1.680e-01, -8.000e-03,\n",
       "       -7.000e-03, -2.100e-02, -1.200e-02,  1.700e-01, -8.100e-02,\n",
       "       -5.250e-01, -4.000e-03, -5.710e-01,  1.000e-03, -8.000e-03,\n",
       "       -5.300e-02, -9.000e-03, -1.000e-03,  1.163e+00, -7.100e-02,\n",
       "       -0.000e+00, -2.100e-02, -2.000e-03, -1.000e-03, -4.450e-01,\n",
       "       -4.300e-01,  5.700e-02,  4.010e-01,  3.800e-01, -7.600e-02,\n",
       "       -3.770e-01,  2.127e+00, -1.000e-03, -2.600e-02, -1.250e-01,\n",
       "       -2.300e-02, -6.900e-02,  0.000e+00, -1.100e-02, -6.000e-03,\n",
       "       -1.400e-02,  3.000e-03, -2.000e-01,  7.590e-01,  0.000e+00,\n",
       "       -1.723e+00, -1.530e-01, -0.000e+00, -8.000e-02, -2.000e-03,\n",
       "       -4.000e-03,  7.200e-02, -1.400e-02, -5.400e-02, -2.200e-02,\n",
       "       -3.300e-02, -8.200e-02,  9.200e-01, -2.000e-03, -1.000e-03,\n",
       "       -1.307e+00, -2.260e-01,  5.640e-01, -1.980e-01, -7.000e-02,\n",
       "       -1.890e-01, -1.060e-01, -9.000e-02, -1.600e-01,  2.930e-01,\n",
       "        3.870e-01,  2.860e-01, -1.000e-03, -3.370e-01, -9.000e-02,\n",
       "       -2.500e-02,  7.640e-01,  2.600e-02,  1.200e-02,  1.000e-03,\n",
       "       -1.000e-03,  5.300e-02, -7.000e-03, -1.100e-02, -1.600e-02,\n",
       "       -3.000e-03, -6.000e-03, -1.900e-02, -2.000e-03, -1.000e-03,\n",
       "       -2.000e-03,  5.980e-01, -4.000e-03, -0.000e+00, -1.096e+00,\n",
       "       -5.530e-01,  3.820e-01,  6.150e-01,  5.120e-01,  1.470e-01,\n",
       "        1.003e+00,  5.440e-01,  8.590e-01,  6.400e-02,  4.550e-01,\n",
       "        2.200e-02, -2.250e-01, -1.540e+00,  3.960e-01,  1.415e+00,\n",
       "        3.970e-01,  3.600e-02,  7.740e-01,  1.500e-02, -1.300e-02,\n",
       "       -5.000e-02, -2.450e-01, -5.000e-03, -4.000e-03, -2.000e-03,\n",
       "       -0.000e+00, -3.000e-03, -5.570e-01, -5.000e-03, -2.000e-03,\n",
       "       -8.000e-03,  1.260e-01,  1.511e+00,  1.580e-01, -9.000e-03,\n",
       "        9.000e-03, -1.270e-01,  8.570e-01, -8.200e-02, -2.930e-01,\n",
       "        5.530e-01,  3.950e-01,  2.000e-03, -1.357e+00, -1.400e-02,\n",
       "       -5.370e-01, -1.700e-02, -5.100e-02, -2.000e-03, -5.600e-02,\n",
       "       -6.000e-03, -4.600e-02,  9.900e-01,  4.390e-01, -1.560e-01,\n",
       "       -8.400e-02, -6.000e-03, -2.400e-02,  4.300e-02,  1.000e-03,\n",
       "        0.000e+00, -3.400e-02, -2.700e-02, -3.740e-01, -3.550e-01,\n",
       "        6.560e-01,  3.320e-01,  1.840e-01, -8.000e-03, -1.000e-02,\n",
       "       -1.000e-03, -5.000e-03,  1.200e-02, -1.430e-01,  2.520e-01,\n",
       "        2.380e-01, -2.290e-01,  8.300e-02,  2.000e-03, -4.100e-01,\n",
       "        2.900e-01,  1.000e-03, -7.100e-02,  0.000e+00,  2.510e-01,\n",
       "        3.120e-01, -7.000e-03, -4.000e-03, -0.000e+00, -7.610e-01,\n",
       "       -1.150e-01, -4.930e-01, -2.090e-01, -9.000e-02, -5.660e-01,\n",
       "        2.070e-01, -0.000e+00, -1.800e-01,  2.900e-02, -1.600e-02,\n",
       "       -1.000e-03,  8.530e-01,  3.450e-01, -1.000e-03,  1.100e-02,\n",
       "        1.000e-03, -2.000e-03,  7.920e-01,  1.053e+00, -5.660e-01,\n",
       "        4.490e-01, -1.600e-01, -3.800e-02, -3.000e-03, -0.000e+00,\n",
       "       -3.700e-02,  2.850e-01,  1.168e+00, -3.810e-01,  1.028e+00,\n",
       "       -4.500e-02, -1.100e-02,  7.000e-03,  7.770e-01,  0.000e+00,\n",
       "        0.000e+00,  0.000e+00, -8.500e-02, -1.270e-01, -1.650e-01,\n",
       "       -4.900e-02, -1.800e-02, -8.000e-03, -7.790e-01, -9.000e-03,\n",
       "       -2.400e-02, -2.000e-03, -7.760e-01, -1.100e-02, -0.000e+00,\n",
       "       -2.810e-01, -4.000e-03,  9.700e-02,  2.100e-02,  1.000e-03,\n",
       "        2.900e-01,  1.990e-01,  2.690e-01, -2.000e-03, -6.500e-02,\n",
       "       -1.200e-02,  2.460e-01,  1.000e-03,  9.380e-01, -4.000e-03,\n",
       "       -1.000e-03, -1.000e-03,  1.000e-03, -2.700e-01, -1.900e-02,\n",
       "       -0.000e+00, -1.500e-02, -2.000e-03, -1.078e+00,  7.950e-01,\n",
       "        5.300e-01, -3.400e-02, -4.210e-01, -1.790e-01, -4.500e-02,\n",
       "       -1.000e-03, -1.000e-03, -2.440e-01, -9.900e-02, -6.030e-01,\n",
       "       -4.000e-03, -2.760e-01, -5.060e-01, -2.990e-01, -2.830e-01,\n",
       "       -7.000e-03, -1.610e-01,  1.634e+00,  7.080e-01, -6.340e-01,\n",
       "        9.610e-01, -1.000e-02, -2.291e+00, -3.480e-01, -4.000e-03,\n",
       "       -5.900e-02,  1.229e+00, -1.780e-01, -3.100e-02, -3.600e-02,\n",
       "       -2.640e-01, -3.500e-02, -3.000e-03, -5.510e-01, -1.700e-01,\n",
       "        4.160e-01,  2.000e-02,  6.600e-02, -6.400e-02, -8.980e-01,\n",
       "       -5.800e-02, -1.220e-01,  1.100e-02,  1.600e-02,  1.000e-03,\n",
       "       -4.700e-02, -1.670e-01, -4.800e-01,  1.049e+00, -6.310e-01,\n",
       "        1.850e-01, -0.000e+00, -0.000e+00, -1.400e-02,  1.000e-03,\n",
       "       -0.000e+00, -2.300e-02, -2.000e-02, -5.100e-01, -1.900e-01,\n",
       "       -9.600e-02, -7.000e-03, -6.000e-03, -3.000e-03,  0.000e+00,\n",
       "       -2.000e-03, -8.000e-03,  2.000e-03,  3.000e-03, -9.000e-03,\n",
       "       -2.800e-02, -3.800e-02, -4.000e-03,  0.000e+00, -3.210e-01,\n",
       "       -1.000e-03, -8.620e-01, -3.350e-01,  2.020e-01,  3.340e-01,\n",
       "        0.000e+00,  1.860e-01, -1.000e-03, -2.000e-02, -2.800e-02,\n",
       "        2.940e-01,  5.950e-01,  6.730e-01, -4.000e-03, -4.000e-03,\n",
       "       -5.000e-03, -9.300e-02, -8.320e-01,  1.400e-02,  1.000e-03,\n",
       "       -0.000e+00,  5.600e-02, -4.080e-01,  4.610e-01, -3.900e-02,\n",
       "       -4.000e-03, -1.000e-03,  2.930e-01,  5.370e-01,  5.690e-01,\n",
       "       -3.630e-01,  2.270e-01,  1.440e-01,  1.700e-02,  8.670e-01,\n",
       "       -6.600e-02,  8.000e-03, -1.500e-02,  9.260e-01, -9.350e-01,\n",
       "       -1.510e-01, -1.380e+00,  3.120e-01, -1.356e+00,  1.102e+00,\n",
       "       -7.500e-02, -3.190e-01,  1.866e+00,  9.360e-01, -1.400e-01,\n",
       "        6.660e-01, -1.120e+00,  5.560e-01,  4.530e-01, -2.005e+00,\n",
       "       -6.500e-02,  4.030e-01, -6.000e-03])"
      ]
     },
     "execution_count": 41,
     "metadata": {},
     "output_type": "execute_result"
    }
   ],
   "source": [
    "# this is our w(weight)\n",
    "model.coef_[0].round(3)"
   ]
  },
  {
   "cell_type": "code",
   "execution_count": 42,
   "id": "398bd307",
   "metadata": {},
   "outputs": [
    {
     "data": {
      "text/plain": [
       "array([1, 0, 0, ..., 0, 0, 0])"
      ]
     },
     "execution_count": 42,
     "metadata": {},
     "output_type": "execute_result"
    }
   ],
   "source": [
    "# hard prediction predict 0 and 1\n",
    "model.predict(X_train)"
   ]
  },
  {
   "cell_type": "code",
   "execution_count": 43,
   "id": "d5334b48",
   "metadata": {},
   "outputs": [
    {
     "data": {
      "text/plain": [
       "array([[4.29459492e-01, 5.70540508e-01],\n",
       "       [8.84225641e-01, 1.15774359e-01],\n",
       "       [9.29111864e-01, 7.08881362e-02],\n",
       "       ...,\n",
       "       [9.99586710e-01, 4.13289871e-04],\n",
       "       [9.74216705e-01, 2.57832947e-02],\n",
       "       [8.85716543e-01, 1.14283457e-01]])"
      ]
     },
     "execution_count": 43,
     "metadata": {},
     "output_type": "execute_result"
    }
   ],
   "source": [
    "# soft probability predict likelyhood of churning\n",
    "model.predict_proba(X_train)"
   ]
  },
  {
   "cell_type": "code",
   "execution_count": 44,
   "id": "16bf0568",
   "metadata": {},
   "outputs": [],
   "source": [
    "# using it on valitaton dataset\n",
    "y_pred =model.predict_proba(X_val)[:,1]"
   ]
  },
  {
   "cell_type": "code",
   "execution_count": 45,
   "id": "7da995da",
   "metadata": {},
   "outputs": [],
   "source": [
    "above_average_decision = (y_pred >= 0.5)"
   ]
  },
  {
   "cell_type": "code",
   "execution_count": 46,
   "id": "ef2f879f",
   "metadata": {},
   "outputs": [],
   "source": [
    "# check the accuracy of the model\n",
    "accuracy = (y_val == above_average_decision).mean()"
   ]
  },
  {
   "cell_type": "code",
   "execution_count": 47,
   "id": "8c97967c",
   "metadata": {},
   "outputs": [],
   "source": [
    "auc_score = roc_auc_score(y_val, y_pred)"
   ]
  },
  {
   "cell_type": "code",
   "execution_count": 48,
   "id": "5cdcf44b",
   "metadata": {},
   "outputs": [
    {
     "name": "stdout",
     "output_type": "stream",
     "text": [
      "AUC on validation dataset: 0.98\n"
     ]
    }
   ],
   "source": [
    "print('AUC on validation dataset:', round(auc_score,3))"
   ]
  },
  {
   "cell_type": "code",
   "execution_count": 49,
   "id": "4554f1df",
   "metadata": {},
   "outputs": [
    {
     "name": "stdout",
     "output_type": "stream",
     "text": [
      "AUC on validation dataset: 0.9795\n"
     ]
    }
   ],
   "source": [
    "print('AUC on validation dataset:', round(auc_score,4))"
   ]
  },
  {
   "cell_type": "markdown",
   "id": "cdee6619",
   "metadata": {},
   "source": [
    "# Precision and Recall"
   ]
  },
  {
   "cell_type": "code",
   "execution_count": 50,
   "id": "25427cec",
   "metadata": {},
   "outputs": [],
   "source": [
    "from sklearn.metrics import precision_score, recall_score, f1_score\n",
    "import matplotlib.pyplot as plt"
   ]
  },
  {
   "cell_type": "code",
   "execution_count": 51,
   "id": "cfb3185e",
   "metadata": {},
   "outputs": [
    {
     "data": {
      "text/plain": [
       "2383"
      ]
     },
     "execution_count": 51,
     "metadata": {},
     "output_type": "execute_result"
    }
   ],
   "source": [
    "len(y_val)"
   ]
  },
  {
   "cell_type": "code",
   "execution_count": 52,
   "id": "9143d896",
   "metadata": {},
   "outputs": [
    {
     "data": {
      "text/plain": [
       "0.9353755770037767"
      ]
     },
     "execution_count": 52,
     "metadata": {},
     "output_type": "execute_result"
    }
   ],
   "source": [
    "(y_val == above_average_decision).mean()\n"
   ]
  },
  {
   "cell_type": "code",
   "execution_count": 53,
   "id": "9004fb4e",
   "metadata": {},
   "outputs": [
    {
     "data": {
      "text/plain": [
       "2229"
      ]
     },
     "execution_count": 53,
     "metadata": {},
     "output_type": "execute_result"
    }
   ],
   "source": [
    "(y_val == above_average_decision).sum()"
   ]
  },
  {
   "cell_type": "code",
   "execution_count": 54,
   "id": "958d3250",
   "metadata": {},
   "outputs": [
    {
     "data": {
      "text/plain": [
       "0.9353755770037767"
      ]
     },
     "execution_count": 54,
     "metadata": {},
     "output_type": "execute_result"
    }
   ],
   "source": [
    "2229/2383"
   ]
  },
  {
   "cell_type": "code",
   "execution_count": 55,
   "id": "6d20fc76",
   "metadata": {},
   "outputs": [],
   "source": [
    "actual_positive=(y_val==1)\n",
    "\n",
    "actual_negative=(y_val==0)"
   ]
  },
  {
   "cell_type": "code",
   "execution_count": 56,
   "id": "c600a2d5",
   "metadata": {},
   "outputs": [],
   "source": [
    "t=0.5\n",
    "predict_positive = (y_pred >=t)\n",
    "predict_negative = (y_pred < t)"
   ]
  },
  {
   "cell_type": "code",
   "execution_count": 57,
   "id": "21025156",
   "metadata": {},
   "outputs": [],
   "source": [
    "tp = (actual_positive & predict_positive).sum()\n",
    "tn = (predict_negative & actual_negative).sum()"
   ]
  },
  {
   "cell_type": "code",
   "execution_count": 58,
   "id": "d3eab9e6",
   "metadata": {},
   "outputs": [],
   "source": [
    "fp = (predict_positive & actual_negative).sum()\n",
    "fn = (predict_negative & actual_positive).sum()"
   ]
  },
  {
   "cell_type": "code",
   "execution_count": 59,
   "id": "673e7f30",
   "metadata": {},
   "outputs": [
    {
     "data": {
      "text/plain": [
       "(571, 1658, 71, 83)"
      ]
     },
     "execution_count": 59,
     "metadata": {},
     "output_type": "execute_result"
    }
   ],
   "source": [
    "tp, tn, fp, fn"
   ]
  },
  {
   "cell_type": "code",
   "execution_count": 60,
   "id": "235876a7",
   "metadata": {},
   "outputs": [
    {
     "data": {
      "text/plain": [
       "0.8894080996884736"
      ]
     },
     "execution_count": 60,
     "metadata": {},
     "output_type": "execute_result"
    }
   ],
   "source": [
    "p = tp / (tp + fp)\n",
    "p"
   ]
  },
  {
   "cell_type": "code",
   "execution_count": 61,
   "id": "a22bf740",
   "metadata": {},
   "outputs": [
    {
     "data": {
      "text/plain": [
       "0.8730886850152905"
      ]
     },
     "execution_count": 61,
     "metadata": {},
     "output_type": "execute_result"
    }
   ],
   "source": [
    "r = tp / (tp + fn)\n",
    "r"
   ]
  },
  {
   "cell_type": "code",
   "execution_count": 62,
   "id": "c0cb9e3a",
   "metadata": {},
   "outputs": [],
   "source": [
    "scores =  []\n",
    "thresholds = np.arange(0.0, 1.0 , 0.01)\n",
    "for t in thresholds:\n",
    "    actual_positive=(y_val==1)\n",
    "    actual_negative=(y_val==0)\n",
    "    \n",
    "    predict_positive = (y_pred >=t)\n",
    "    predict_negative = (y_pred < t)\n",
    "    \n",
    "    tp = (actual_positive & predict_positive).sum()\n",
    "    tn = (predict_negative & actual_negative).sum()\n",
    "    \n",
    "    fp = (predict_positive & actual_negative).sum()\n",
    "    fn = (predict_negative & actual_positive).sum()\n",
    "    r = tp / (tp + fn)\n",
    "    p = tp / (tp + fp)\n",
    "    \n",
    "    f1 = 2 * (p*r)/(p+r) \n",
    "    \n",
    "    scores.append((t, tp, tn, fp, fn,p,r,f1))"
   ]
  },
  {
   "cell_type": "code",
   "execution_count": 63,
   "id": "f464e59d",
   "metadata": {},
   "outputs": [],
   "source": [
    "columns = ['threshold', 'tp', 'tn', 'fp', 'fn', 'r', 'p','f1']\n",
    "df_scores =pd.DataFrame(scores, columns=columns)"
   ]
  },
  {
   "cell_type": "code",
   "execution_count": 64,
   "id": "f0e32a50",
   "metadata": {},
   "outputs": [
    {
     "data": {
      "text/html": [
       "<div>\n",
       "<style scoped>\n",
       "    .dataframe tbody tr th:only-of-type {\n",
       "        vertical-align: middle;\n",
       "    }\n",
       "\n",
       "    .dataframe tbody tr th {\n",
       "        vertical-align: top;\n",
       "    }\n",
       "\n",
       "    .dataframe thead th {\n",
       "        text-align: right;\n",
       "    }\n",
       "</style>\n",
       "<table border=\"1\" class=\"dataframe\">\n",
       "  <thead>\n",
       "    <tr style=\"text-align: right;\">\n",
       "      <th></th>\n",
       "      <th>threshold</th>\n",
       "      <th>tp</th>\n",
       "      <th>tn</th>\n",
       "      <th>fp</th>\n",
       "      <th>fn</th>\n",
       "      <th>r</th>\n",
       "      <th>p</th>\n",
       "      <th>f1</th>\n",
       "    </tr>\n",
       "  </thead>\n",
       "  <tbody>\n",
       "    <tr>\n",
       "      <th>0</th>\n",
       "      <td>0.00</td>\n",
       "      <td>654</td>\n",
       "      <td>0</td>\n",
       "      <td>1729</td>\n",
       "      <td>0</td>\n",
       "      <td>0.274444</td>\n",
       "      <td>1.000000</td>\n",
       "      <td>0.430688</td>\n",
       "    </tr>\n",
       "    <tr>\n",
       "      <th>1</th>\n",
       "      <td>0.01</td>\n",
       "      <td>652</td>\n",
       "      <td>948</td>\n",
       "      <td>781</td>\n",
       "      <td>2</td>\n",
       "      <td>0.454990</td>\n",
       "      <td>0.996942</td>\n",
       "      <td>0.624820</td>\n",
       "    </tr>\n",
       "    <tr>\n",
       "      <th>2</th>\n",
       "      <td>0.02</td>\n",
       "      <td>651</td>\n",
       "      <td>1086</td>\n",
       "      <td>643</td>\n",
       "      <td>3</td>\n",
       "      <td>0.503091</td>\n",
       "      <td>0.995413</td>\n",
       "      <td>0.668378</td>\n",
       "    </tr>\n",
       "    <tr>\n",
       "      <th>3</th>\n",
       "      <td>0.03</td>\n",
       "      <td>651</td>\n",
       "      <td>1168</td>\n",
       "      <td>561</td>\n",
       "      <td>3</td>\n",
       "      <td>0.537129</td>\n",
       "      <td>0.995413</td>\n",
       "      <td>0.697749</td>\n",
       "    </tr>\n",
       "    <tr>\n",
       "      <th>4</th>\n",
       "      <td>0.04</td>\n",
       "      <td>650</td>\n",
       "      <td>1232</td>\n",
       "      <td>497</td>\n",
       "      <td>4</td>\n",
       "      <td>0.566696</td>\n",
       "      <td>0.993884</td>\n",
       "      <td>0.721821</td>\n",
       "    </tr>\n",
       "    <tr>\n",
       "      <th>...</th>\n",
       "      <td>...</td>\n",
       "      <td>...</td>\n",
       "      <td>...</td>\n",
       "      <td>...</td>\n",
       "      <td>...</td>\n",
       "      <td>...</td>\n",
       "      <td>...</td>\n",
       "      <td>...</td>\n",
       "    </tr>\n",
       "    <tr>\n",
       "      <th>95</th>\n",
       "      <td>0.95</td>\n",
       "      <td>285</td>\n",
       "      <td>1728</td>\n",
       "      <td>1</td>\n",
       "      <td>369</td>\n",
       "      <td>0.996503</td>\n",
       "      <td>0.435780</td>\n",
       "      <td>0.606383</td>\n",
       "    </tr>\n",
       "    <tr>\n",
       "      <th>96</th>\n",
       "      <td>0.96</td>\n",
       "      <td>270</td>\n",
       "      <td>1728</td>\n",
       "      <td>1</td>\n",
       "      <td>384</td>\n",
       "      <td>0.996310</td>\n",
       "      <td>0.412844</td>\n",
       "      <td>0.583784</td>\n",
       "    </tr>\n",
       "    <tr>\n",
       "      <th>97</th>\n",
       "      <td>0.97</td>\n",
       "      <td>251</td>\n",
       "      <td>1728</td>\n",
       "      <td>1</td>\n",
       "      <td>403</td>\n",
       "      <td>0.996032</td>\n",
       "      <td>0.383792</td>\n",
       "      <td>0.554084</td>\n",
       "    </tr>\n",
       "    <tr>\n",
       "      <th>98</th>\n",
       "      <td>0.98</td>\n",
       "      <td>233</td>\n",
       "      <td>1729</td>\n",
       "      <td>0</td>\n",
       "      <td>421</td>\n",
       "      <td>1.000000</td>\n",
       "      <td>0.356269</td>\n",
       "      <td>0.525366</td>\n",
       "    </tr>\n",
       "    <tr>\n",
       "      <th>99</th>\n",
       "      <td>0.99</td>\n",
       "      <td>192</td>\n",
       "      <td>1729</td>\n",
       "      <td>0</td>\n",
       "      <td>462</td>\n",
       "      <td>1.000000</td>\n",
       "      <td>0.293578</td>\n",
       "      <td>0.453901</td>\n",
       "    </tr>\n",
       "  </tbody>\n",
       "</table>\n",
       "<p>100 rows × 8 columns</p>\n",
       "</div>"
      ],
      "text/plain": [
       "    threshold   tp    tn    fp   fn         r         p        f1\n",
       "0        0.00  654     0  1729    0  0.274444  1.000000  0.430688\n",
       "1        0.01  652   948   781    2  0.454990  0.996942  0.624820\n",
       "2        0.02  651  1086   643    3  0.503091  0.995413  0.668378\n",
       "3        0.03  651  1168   561    3  0.537129  0.995413  0.697749\n",
       "4        0.04  650  1232   497    4  0.566696  0.993884  0.721821\n",
       "..        ...  ...   ...   ...  ...       ...       ...       ...\n",
       "95       0.95  285  1728     1  369  0.996503  0.435780  0.606383\n",
       "96       0.96  270  1728     1  384  0.996310  0.412844  0.583784\n",
       "97       0.97  251  1728     1  403  0.996032  0.383792  0.554084\n",
       "98       0.98  233  1729     0  421  1.000000  0.356269  0.525366\n",
       "99       0.99  192  1729     0  462  1.000000  0.293578  0.453901\n",
       "\n",
       "[100 rows x 8 columns]"
      ]
     },
     "execution_count": 64,
     "metadata": {},
     "output_type": "execute_result"
    }
   ],
   "source": [
    "df_scores"
   ]
  },
  {
   "cell_type": "code",
   "execution_count": 65,
   "id": "e7e43cef",
   "metadata": {},
   "outputs": [
    {
     "data": {
      "image/png": "[encoded data removed]",
      "text/plain": [
       "<Figure size 1200x800 with 1 Axes>"
      ]
     },
     "metadata": {},
     "output_type": "display_data"
    }
   ],
   "source": [
    "plt.plot(df_scores.threshold, df_scores.p, label='precision')\n",
    "plt.plot(df_scores.threshold, df_scores.r, label='recall')\n",
    "\n",
    "plt.vlines(0.48, 0, 1, color='grey', linestyle='--', alpha=0.5)\n",
    "\n",
    "plt.legend()\n",
    "plt.show()"
   ]
  },
  {
   "cell_type": "code",
   "execution_count": 66,
   "id": "d026c41b",
   "metadata": {},
   "outputs": [
    {
     "data": {
      "text/plain": [
       "0.8885496183206106"
      ]
     },
     "execution_count": 66,
     "metadata": {},
     "output_type": "execute_result"
    }
   ],
   "source": [
    "max_value = df_scores['f1'].max()\n",
    "max_value "
   ]
  },
  {
   "cell_type": "code",
   "execution_count": 67,
   "id": "ddcf1446",
   "metadata": {},
   "outputs": [
    {
     "data": {
      "text/plain": [
       "48"
      ]
     },
     "execution_count": 67,
     "metadata": {},
     "output_type": "execute_result"
    }
   ],
   "source": [
    "max_value_index = df_scores['f1'].idxmax()\n",
    "max_value_index \n"
   ]
  },
  {
   "cell_type": "code",
   "execution_count": 68,
   "id": "0df5e8e3",
   "metadata": {},
   "outputs": [
    {
     "data": {
      "text/plain": [
       "threshold       0.480000\n",
       "tp            582.000000\n",
       "tn           1655.000000\n",
       "fp             74.000000\n",
       "fn             72.000000\n",
       "r               0.887195\n",
       "p               0.889908\n",
       "f1              0.888550\n",
       "Name: 48, dtype: float64"
      ]
     },
     "execution_count": 68,
     "metadata": {},
     "output_type": "execute_result"
    }
   ],
   "source": [
    "df_scores.loc[48]"
   ]
  },
  {
   "cell_type": "code",
   "execution_count": 75,
   "id": "dbc3e363",
   "metadata": {},
   "outputs": [
    {
     "data": {
      "image/png": "[encoded data removed]",
      "text/plain": [
       "<Figure size 1200x800 with 1 Axes>"
      ]
     },
     "metadata": {},
     "output_type": "display_data"
    }
   ],
   "source": [
    "plt.plot(df_scores.threshold, df_scores.f1, label='F1_Score')\n",
    "\n",
    "plt.vlines(0.48, 0, 1, color='grey', linestyle='--', alpha=0.5)\n",
    "\n",
    "plt.legend()\n",
    "plt.show()"
   ]
  },
  {
   "cell_type": "markdown",
   "id": "6dedbeee",
   "metadata": {},
   "source": [
    "# Kfold"
   ]
  },
  {
   "cell_type": "code",
   "execution_count": 70,
   "id": "28a31f32",
   "metadata": {},
   "outputs": [
    {
     "name": "stdout",
     "output_type": "stream",
     "text": [
      "Mean AUC: 0.9790849208748122\n"
     ]
    }
   ],
   "source": [
    "from sklearn.model_selection import KFold\n",
    "from sklearn.linear_model import LogisticRegression\n",
    "from sklearn.metrics import roc_auc_score\n",
    "from sklearn.feature_extraction import DictVectorizer\n",
    "\n",
    "# Assuming df_full_train is your training dataset with features and target\n",
    "\n",
    "# Define the KFold object with 5 splits, shuffling the data, and setting a random seed\n",
    "kf = KFold(n_splits=5, shuffle=True, random_state=1)\n",
    "\n",
    "# Initialize a list to store AUC scores for each fold\n",
    "auc_scores = []\n",
    "\n",
    "# Initialize DictVectorizer\n",
    "vectorizer = DictVectorizer()\n",
    "\n",
    "# Iterate over different folds of df_full_train\n",
    "for train_index, val_index in kf.split(df_full_train):\n",
    "    # Split the data into train and validation sets based on the fold indices\n",
    "    train_data, val_data = df_full_train.iloc[train_index], df_full_train.iloc[val_index]\n",
    "    \n",
    "    # Separate the features (X) and the target (y) variables for train and validation\n",
    "    X_train, y_train = train_data.drop(columns=['above_average']), train_data['above_average']\n",
    "    X_val, y_val = val_data.drop(columns=['above_average']), val_data['above_average']\n",
    "    \n",
    "    # Convert feature dataframes to dictionaries and then use DictVectorizer\n",
    "    X_train_dict = X_train.to_dict(orient='records')\n",
    "    X_val_dict = X_val.to_dict(orient='records')\n",
    "    \n",
    "    X_train_encoded = vectorizer.fit_transform(X_train_dict)\n",
    "    X_val_encoded = vectorizer.transform(X_val_dict)\n",
    "    \n",
    "    # Initialize and train the Logistic Regression model\n",
    "    model = LogisticRegression(solver='liblinear', C=1.0, max_iter=1000)\n",
    "    model.fit(X_train_encoded, y_train)\n",
    "    \n",
    "    # Predict probabilities on the validation set\n",
    "    y_pred_proba = model.predict_proba(X_val_encoded)[:, 1]\n",
    "    \n",
    "    # Calculate the AUC score and append it to the list\n",
    "    auc_score = roc_auc_score(y_val, y_pred_proba)\n",
    "    auc_scores.append(auc_score)\n",
    "\n",
    "# Calculate and print the mean AUC score across all folds\n",
    "mean_auc = sum(auc_scores) / len(auc_scores)\n",
    "print(\"Mean AUC:\", mean_auc)\n"
   ]
  },
  {
   "cell_type": "code",
   "execution_count": 71,
   "id": "7f2a531a",
   "metadata": {},
   "outputs": [
    {
     "data": {
      "text/plain": [
       "[0.9784808734152848,\n",
       " 0.977489884329507,\n",
       " 0.9773827449668173,\n",
       " 0.9772656293569796,\n",
       " 0.9848054723054723]"
      ]
     },
     "execution_count": 71,
     "metadata": {},
     "output_type": "execute_result"
    }
   ],
   "source": [
    "auc_scores"
   ]
  },
  {
   "cell_type": "code",
   "execution_count": 72,
   "id": "07d90888",
   "metadata": {},
   "outputs": [
    {
     "data": {
      "text/plain": [
       "0.0028927823296495785"
      ]
     },
     "execution_count": 72,
     "metadata": {},
     "output_type": "execute_result"
    }
   ],
   "source": [
    "std_deviation = np.std(auc_scores)\n",
    "std_deviation"
   ]
  },
  {
   "cell_type": "code",
   "execution_count": 73,
   "id": "4407461e",
   "metadata": {},
   "outputs": [
    {
     "name": "stdout",
     "output_type": "stream",
     "text": [
      "C = 0.01: Mean AUC = 0.952, Std = 0.002\n",
      "C = 0.1: Mean AUC = 0.972, Std = 0.002\n",
      "C = 0.5: Mean AUC = 0.979, Std = 0.002\n",
      "C = 10: Mean AUC = 0.981, Std = 0.002\n"
     ]
    }
   ],
   "source": [
    "\n",
    "# Define the C values to iterate over\n",
    "C_values = [0.01, 0.1, 0.5, 10]\n",
    "\n",
    "# Initialize KFold with the same parameters as previously\n",
    "kf = KFold(n_splits=5, shuffle=True, random_state=1)\n",
    "\n",
    "# Initialize lists to store mean and std scores\n",
    "mean_scores = []\n",
    "std_scores = []\n",
    "\n",
    "# Iterate over different C values\n",
    "for C in C_values:\n",
    "    # Initialize a list to store AUC scores for each fold\n",
    "    auc_scores = []\n",
    "    \n",
    "    # Iterate over different folds of df_full_train\n",
    "    for train_index, val_index in kf.split(df_full_train):\n",
    "        # Split the data into train and validation sets based on the fold indices\n",
    "        train_data, val_data = df_full_train.iloc[train_index], df_full_train.iloc[val_index]\n",
    "\n",
    "        # Separate the features (X) and the target (y) variables for train and validation\n",
    "        X_train, y_train = train_data.drop(columns=['above_average']), train_data['above_average']\n",
    "        X_val, y_val = val_data.drop(columns=['above_average']), val_data['above_average']\n",
    "\n",
    "        # Convert feature dataframes to dictionaries and then use DictVectorizer\n",
    "        X_train_dict = X_train.to_dict(orient='records')\n",
    "        X_val_dict = X_val.to_dict(orient='records')\n",
    "\n",
    "        X_train_encoded = vectorizer.fit_transform(X_train_dict)\n",
    "        X_val_encoded = vectorizer.transform(X_val_dict)\n",
    "\n",
    "        # Initialize and train the Logistic Regression model with the current C value\n",
    "        model = LogisticRegression(solver='liblinear', C=C, max_iter=1000)\n",
    "        model.fit(X_train_encoded, y_train)\n",
    "\n",
    "        # Predict probabilities on the validation set\n",
    "        y_pred_proba = model.predict_proba(X_val_encoded)[:, 1]\n",
    "\n",
    "        # Calculate the AUC score and append it to the list\n",
    "        auc_score = roc_auc_score(y_val, y_pred_proba)\n",
    "        auc_scores.append(auc_score)\n",
    "    \n",
    "    # Calculate the mean and standard deviation of AUC scores for the current C value\n",
    "    mean_auc = np.mean(auc_scores)\n",
    "    std_auc = np.std(auc_scores)\n",
    "    \n",
    "    # Append the mean and std scores to the respective lists (rounded to 3 decimal digits)\n",
    "    mean_scores.append(round(mean_auc, 3))\n",
    "    std_scores.append(round(std_auc, 3))\n",
    "\n",
    "# Print the results for each C value\n",
    "for i, C in enumerate(C_values):\n",
    "    print(f\"C = {C}: Mean AUC = {mean_scores[i]}, Std = {std_scores[i]}\")\n"
   ]
  },
  {
   "cell_type": "code",
   "execution_count": null,
   "id": "8bb87fbc",
   "metadata": {},
   "outputs": [],
   "source": []
  },
  {
   "cell_type": "code",
   "execution_count": null,
   "id": "10fa73ac",
   "metadata": {},
   "outputs": [],
   "source": []
  },
  {
   "cell_type": "code",
   "execution_count": null,
   "id": "b8696189",
   "metadata": {},
   "outputs": [],
   "source": []
  },
  {
   "cell_type": "code",
   "execution_count": null,
   "id": "bdf547b6",
   "metadata": {},
   "outputs": [],
   "source": []
  },
  {
   "cell_type": "code",
   "execution_count": null,
   "id": "a6ace6de",
   "metadata": {},
   "outputs": [],
   "source": []
  }
 ],
 "metadata": {
  "kernelspec": {
   "display_name": "Python 3 (ipykernel)",
   "language": "python",
   "name": "python3"
  },
  "language_info": {
   "codemirror_mode": {
    "name": "ipython",
    "version": 3
   },
   "file_extension": ".py",
   "mimetype": "text/x-python",
   "name": "python",
   "nbconvert_exporter": "python",
   "pygments_lexer": "ipython3",
   "version": "3.9.13"
  }
 },
 "nbformat": 4,
 "nbformat_minor": 5
}
